{
 "cells": [
  {
   "cell_type": "code",
   "execution_count": 17,
   "id": "historical-fabric",
   "metadata": {},
   "outputs": [],
   "source": [
    "%load_ext autoreload\n",
    "%autoreload 2"
   ]
  },
  {
   "cell_type": "code",
   "execution_count": 75,
   "id": "spoken-macintosh",
   "metadata": {},
   "outputs": [],
   "source": [
    "from DumpProcessing import PoEDataImporter"
   ]
  },
  {
   "cell_type": "code",
   "execution_count": 76,
   "id": "adopted-rover",
   "metadata": {},
   "outputs": [],
   "source": [
    "poe = PoEDataImporter()"
   ]
  },
  {
   "cell_type": "code",
   "execution_count": 79,
   "id": "swiss-vision",
   "metadata": {},
   "outputs": [
    {
     "data": {
      "text/html": [
       "<div>\n",
       "<style scoped>\n",
       "    .dataframe tbody tr th:only-of-type {\n",
       "        vertical-align: middle;\n",
       "    }\n",
       "\n",
       "    .dataframe tbody tr th {\n",
       "        vertical-align: top;\n",
       "    }\n",
       "\n",
       "    .dataframe thead th {\n",
       "        text-align: right;\n",
       "    }\n",
       "</style>\n",
       "<table border=\"1\" class=\"dataframe\">\n",
       "  <thead>\n",
       "    <tr style=\"text-align: right;\">\n",
       "      <th>League</th>\n",
       "      <th>Ritual</th>\n",
       "      <th>Heist</th>\n",
       "      <th>Harvest</th>\n",
       "      <th>Delirium</th>\n",
       "      <th>Metamorph</th>\n",
       "    </tr>\n",
       "  </thead>\n",
       "  <tbody>\n",
       "    <tr>\n",
       "      <th>0</th>\n",
       "      <td>21.00000</td>\n",
       "      <td>18.01531</td>\n",
       "      <td>24.37823</td>\n",
       "      <td>23.57778</td>\n",
       "      <td>28.47274</td>\n",
       "    </tr>\n",
       "    <tr>\n",
       "      <th>1</th>\n",
       "      <td>62.00000</td>\n",
       "      <td>70.00000</td>\n",
       "      <td>55.00000</td>\n",
       "      <td>63.00000</td>\n",
       "      <td>55.83333</td>\n",
       "    </tr>\n",
       "    <tr>\n",
       "      <th>2</th>\n",
       "      <td>73.00000</td>\n",
       "      <td>82.53189</td>\n",
       "      <td>77.00000</td>\n",
       "      <td>81.00000</td>\n",
       "      <td>77.90908</td>\n",
       "    </tr>\n",
       "    <tr>\n",
       "      <th>3</th>\n",
       "      <td>92.00000</td>\n",
       "      <td>92.00415</td>\n",
       "      <td>114.00000</td>\n",
       "      <td>103.00000</td>\n",
       "      <td>97.00000</td>\n",
       "    </tr>\n",
       "    <tr>\n",
       "      <th>4</th>\n",
       "      <td>80.62446</td>\n",
       "      <td>91.00000</td>\n",
       "      <td>134.00000</td>\n",
       "      <td>97.00976</td>\n",
       "      <td>95.91040</td>\n",
       "    </tr>\n",
       "    <tr>\n",
       "      <th>...</th>\n",
       "      <td>...</td>\n",
       "      <td>...</td>\n",
       "      <td>...</td>\n",
       "      <td>...</td>\n",
       "      <td>...</td>\n",
       "    </tr>\n",
       "    <tr>\n",
       "      <th>83</th>\n",
       "      <td>103.00000</td>\n",
       "      <td>102.62633</td>\n",
       "      <td>130.00000</td>\n",
       "      <td>141.84624</td>\n",
       "      <td>191.00000</td>\n",
       "    </tr>\n",
       "    <tr>\n",
       "      <th>84</th>\n",
       "      <td>103.49202</td>\n",
       "      <td>105.00000</td>\n",
       "      <td>129.42766</td>\n",
       "      <td>145.91796</td>\n",
       "      <td>192.25217</td>\n",
       "    </tr>\n",
       "    <tr>\n",
       "      <th>85</th>\n",
       "      <td>105.00000</td>\n",
       "      <td>105.00000</td>\n",
       "      <td>130.00000</td>\n",
       "      <td>143.00000</td>\n",
       "      <td>193.50000</td>\n",
       "    </tr>\n",
       "    <tr>\n",
       "      <th>86</th>\n",
       "      <td>105.02040</td>\n",
       "      <td>105.00000</td>\n",
       "      <td>131.33126</td>\n",
       "      <td>141.00000</td>\n",
       "      <td>194.26189</td>\n",
       "    </tr>\n",
       "    <tr>\n",
       "      <th>87</th>\n",
       "      <td>105.00000</td>\n",
       "      <td>106.00000</td>\n",
       "      <td>140.00000</td>\n",
       "      <td>139.66938</td>\n",
       "      <td>195.00000</td>\n",
       "    </tr>\n",
       "  </tbody>\n",
       "</table>\n",
       "<p>88 rows × 5 columns</p>\n",
       "</div>"
      ],
      "text/plain": [
       "League     Ritual      Heist    Harvest   Delirium  Metamorph\n",
       "0        21.00000   18.01531   24.37823   23.57778   28.47274\n",
       "1        62.00000   70.00000   55.00000   63.00000   55.83333\n",
       "2        73.00000   82.53189   77.00000   81.00000   77.90908\n",
       "3        92.00000   92.00415  114.00000  103.00000   97.00000\n",
       "4        80.62446   91.00000  134.00000   97.00976   95.91040\n",
       "..            ...        ...        ...        ...        ...\n",
       "83      103.00000  102.62633  130.00000  141.84624  191.00000\n",
       "84      103.49202  105.00000  129.42766  145.91796  192.25217\n",
       "85      105.00000  105.00000  130.00000  143.00000  193.50000\n",
       "86      105.02040  105.00000  131.33126  141.00000  194.26189\n",
       "87      105.00000  106.00000  140.00000  139.66938  195.00000\n",
       "\n",
       "[88 rows x 5 columns]"
      ]
     },
     "execution_count": 79,
     "metadata": {},
     "output_type": "execute_result"
    }
   ],
   "source": [
    "poe.df[\"Exalted Orb\"]"
   ]
  },
  {
   "cell_type": "code",
   "execution_count": 1,
   "id": "killing-botswana",
   "metadata": {},
   "outputs": [
    {
     "ename": "NameError",
     "evalue": "name 'poe' is not defined",
     "output_type": "error",
     "traceback": [
      "\u001b[1;31m---------------------------------------------------------------------------\u001b[0m",
      "\u001b[1;31mNameError\u001b[0m                                 Traceback (most recent call last)",
      "\u001b[1;32m<ipython-input-1-6cbd2c2eb04b>\u001b[0m in \u001b[0;36m<module>\u001b[1;34m\u001b[0m\n\u001b[1;32m----> 1\u001b[1;33m \u001b[0mpoe\u001b[0m\u001b[1;33m.\u001b[0m\u001b[0mplot_currency\u001b[0m\u001b[1;33m(\u001b[0m\u001b[1;33m)\u001b[0m\u001b[1;33m\u001b[0m\u001b[1;33m\u001b[0m\u001b[0m\n\u001b[0m",
      "\u001b[1;31mNameError\u001b[0m: name 'poe' is not defined"
     ]
    }
   ],
   "source": [
    "poe.plot_currency()\n"
   ]
  },
  {
   "cell_type": "code",
   "execution_count": null,
   "id": "laden-orbit",
   "metadata": {},
   "outputs": [],
   "source": []
  }
 ],
 "metadata": {
  "kernelspec": {
   "display_name": "Python 3",
   "language": "python",
   "name": "python3"
  },
  "language_info": {
   "codemirror_mode": {
    "name": "ipython",
    "version": 3
   },
   "file_extension": ".py",
   "mimetype": "text/x-python",
   "name": "python",
   "nbconvert_exporter": "python",
   "pygments_lexer": "ipython3",
   "version": "3.8.3"
  }
 },
 "nbformat": 4,
 "nbformat_minor": 5
}
